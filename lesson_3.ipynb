{
 "cells": [
  {
   "cell_type": "code",
   "execution_count": 157,
   "metadata": {},
   "outputs": [
    {
     "data": {
      "text/plain": [
       "{'vk': {'revenue': 103, 'cost': 98, 'ROI': 5.1},\n",
       " 'yandex': {'revenue': 179, 'cost': 153, 'ROI': 16.99},\n",
       " 'facebook': {'revenue': 103, 'cost': 110, 'ROI': -6.36},\n",
       " 'adwords': {'revenue': 35, 'cost': 34, 'ROI': 2.94},\n",
       " 'twitter': {'revenue': 11, 'cost': 24, 'ROI': -54.17}}"
      ]
     },
     "execution_count": 157,
     "metadata": {},
     "output_type": "execute_result"
    }
   ],
   "source": [
    "# задача 3 \n",
    "results = {\n",
    "    'vk': {'revenue': 103, 'cost': 98},\n",
    "    'yandex': {'revenue': 179, 'cost': 153},\n",
    "    'facebook': {'revenue': 103, 'cost': 110},\n",
    "    'adwords': {'revenue': 35, 'cost': 34},\n",
    "    'twitter': {'revenue': 11, 'cost': 24},\n",
    "}\n",
    "for s, i in results.items():\n",
    "    i['ROI'] = round((i['revenue'] / i['cost'] - 1) * 100, 2)\n",
    "dict(results)"
   ]
  },
  {
   "cell_type": "code",
   "execution_count": 185,
   "metadata": {},
   "outputs": [
    {
     "name": "stdout",
     "output_type": "stream",
     "text": [
      "Максимальный объем продаж на рекламном канале: vk\n"
     ]
    }
   ],
   "source": [
    "# задача 4 \n",
    "stats = {'facebook': 55, 'yandex': 115, 'vk': 120, 'google': 99, 'email': 42, 'ok': 98}\n",
    "max_vol = max(stats.items(), key = lambda x:x[1])\n",
    "print('Максимальный объем продаж на рекламном канале:', max_vol[0])\n",
    "    "
   ]
  },
  {
   "cell_type": "code",
   "execution_count": 4,
   "metadata": {},
   "outputs": [
    {
     "name": "stdout",
     "output_type": "stream",
     "text": [
      "Поиковых запросов, содержащих 2 слов(а):  42.86 %\n",
      "Поиковых запросов, содержащих 3 слов(а):  57.14 %\n"
     ]
    }
   ],
   "source": [
    "# задача 2 \n",
    "queries = [\n",
    "\"смотреть сериалы онлайн\",\n",
    "\"новости спорта\",\n",
    "\"афиша кино\",\n",
    "\"курс доллара\",\n",
    "\"сериалы этим летом\",\n",
    "\"курс по питону\",\n",
    "\"сериалы про спорт\",\n",
    "]\n",
    "num_short_quer = 0\n",
    "num_long_quer = 0\n",
    "num_quer = len(queries)\n",
    "split_list = [ item.split(' ') for item in queries]\n",
    "\n",
    "for item in queries:\n",
    "    if len(item.split(' ')) < 3:\n",
    "        num_short_quer += 1\n",
    "    else:\n",
    "        num_long_quer += 1\n",
    "        \n",
    "print('Поиковых запросов, содержащих 2 слов(а): ', round((num_short_quer / num_quer ) * 100, 2) , '%') \n",
    "print('Поиковых запросов, содержащих 3 слов(а): ', round((num_long_quer / num_quer ) * 100 , 2) ,'%') \n"
   ]
  },
  {
   "cell_type": "code",
   "execution_count": 6,
   "metadata": {},
   "outputs": [
    {
     "name": "stdout",
     "output_type": "stream",
     "text": [
      "{98, 35, 15, 213, 54, 119}\n"
     ]
    }
   ],
   "source": [
    "# задача 1\n",
    "ids = {\"user1\": [213, 213, 213, 15, 213],\n",
    "\"user2\": [54, 54, 119, 119, 119],\n",
    "\"user3\": [213, 98, 98, 35]}\n",
    "\n",
    "answer = set()\n",
    "\n",
    "for k in ids.keys():\n",
    "    for v in range(4):\n",
    "        if k == 'user1':\n",
    "            if ids['user1'][v] != ids['user2'][v] and ids['user1'][v] != ids['user3'][v]:\n",
    "                answer.add(ids['user1'][v])\n",
    "        \n",
    "        elif k == 'user2':\n",
    "            if ids['user2'][v] != ids['user1'][v] and ids['user2'][v] != ids['user3'][v]:\n",
    "                answer.add(ids[\"user2\"][v])\n",
    "                \n",
    "        elif k == 'user3':\n",
    "            if ids['user3'][v] != ids['user1'][v] and ids['user3'][v] != ids['user2'][v]:\n",
    "                answer.add(ids['user3'][v])\n",
    "\n",
    "print(answer)"
   ]
  },
  {
   "cell_type": "code",
   "execution_count": null,
   "metadata": {},
   "outputs": [],
   "source": []
  }
 ],
 "metadata": {
  "kernelspec": {
   "display_name": "Python 3",
   "language": "python",
   "name": "python3"
  },
  "language_info": {
   "codemirror_mode": {
    "name": "ipython",
    "version": 3
   },
   "file_extension": ".py",
   "mimetype": "text/x-python",
   "name": "python",
   "nbconvert_exporter": "python",
   "pygments_lexer": "ipython3",
   "version": "3.8.5"
  }
 },
 "nbformat": 4,
 "nbformat_minor": 4
}
