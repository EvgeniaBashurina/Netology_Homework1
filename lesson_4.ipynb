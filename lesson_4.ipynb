{
 "cells": [
  {
   "cell_type": "code",
   "execution_count": null,
   "metadata": {},
   "outputs": [],
   "source": [
    "documents = [\n",
    " {'type': 'passport', 'number': '2207 876234', 'name': 'Василий Гупкин'},\n",
    " {'type': 'invoice', 'number': '11-2', 'name': 'Геннадий Покемонов'},\n",
    " {'type': 'insurance', 'number': '10006', 'name': 'Аристарх Павлов'}\n",
    "]\n",
    "directories = {\n",
    " '1': ['2207 876234', '11-2'],\n",
    " '2': ['10006'],\n",
    " '3': []\n",
    "}\n",
    "\n",
    "\n",
    "def owner():\n",
    "    user_input1 = input('Введите номер документа:')\n",
    "    for i in documents:\n",
    "        if i['number'] == user_input1:\n",
    "            return print('Владелец документа:', i['name'])\n",
    "        return print('Документ не найден в базe')\n",
    "\n",
    "\n",
    "def shelf():\n",
    "    user_input2 = input('Введите номер документа:')\n",
    "    for i in directories:\n",
    "        if user_input2 in directories.get(i): \n",
    "            return print('Документ хранится на полке:', i)\n",
    "        return print('Документ не найден в базе')\n",
    "    \n",
    "def info(): \n",
    "    for shelf, cont in directories.items(): \n",
    "        for doc in documents:\n",
    "            for element in cont:\n",
    "                if element == doc.get(\"number\"):\n",
    "                    print(f\"№: {doc['number']}, тип: {doc['type']}, владелец: {doc['name']}, полка хранения:\", shelf)\n",
    "                else:\n",
    "                    continue\n",
    "\n",
    "            \n",
    "def new_shelf():\n",
    "    user_input2 = input('Введите номер полки:')\n",
    "    if user_input2 in list(directories.keys()):\n",
    "        return print('Такая полка уже существует. Текущий перечень полок:', \", \".join(list(directories.keys())))\n",
    "    else:\n",
    "        directories[user_input2] = []\n",
    "        return print('Полка добавлена. Текущий перечень полок:', \", \".join(list(directories.keys())))\n",
    "            \n",
    "    \n",
    "while True:\n",
    "    user_input = input('Введите команду:')\n",
    "    if user_input == 'p':\n",
    "        owner()\n",
    "    elif user_input == 's':\n",
    "        shelf()\n",
    "    elif user_input == 'l':\n",
    "        info()\n",
    "    elif user_input == 'ads':\n",
    "        new_shelf()\n",
    "    elif user_input == 'q':\n",
    "        break "
   ]
  },
  {
   "cell_type": "code",
   "execution_count": null,
   "metadata": {},
   "outputs": [],
   "source": []
  }
 ],
 "metadata": {
  "kernelspec": {
   "display_name": "Python 3",
   "language": "python",
   "name": "python3"
  },
  "language_info": {
   "codemirror_mode": {
    "name": "ipython",
    "version": 3
   },
   "file_extension": ".py",
   "mimetype": "text/x-python",
   "name": "python",
   "nbconvert_exporter": "python",
   "pygments_lexer": "ipython3",
   "version": "3.8.5"
  }
 },
 "nbformat": 4,
 "nbformat_minor": 4
}
