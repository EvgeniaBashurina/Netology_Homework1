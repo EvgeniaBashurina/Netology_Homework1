{
 "cells": [
  {
   "cell_type": "code",
   "execution_count": 26,
   "metadata": {},
   "outputs": [
    {
     "name": "stdout",
     "output_type": "stream",
     "text": [
      "Tsukuyomi\n",
      "u\n"
     ]
    }
   ],
   "source": [
    "word = input()\n",
    "lenght = len(word)\n",
    "if lenght % 2 == 0:\n",
    "    print(word[int(lenght / 2 - 1):int(lenght / 2 + 1)])\n",
    "elif lenght % 2 != 0: \n",
    "    print (word[int(lenght / 2 - 0.5)])"
   ]
  },
  {
   "cell_type": "code",
   "execution_count": 22,
   "metadata": {},
   "outputs": [
    {
     "name": "stdout",
     "output_type": "stream",
     "text": [
      "Введите число: 0\n",
      "Результат: 0\n"
     ]
    }
   ],
   "source": [
    "num = int(input('Введите число: '))\n",
    "sumnum = 0\n",
    "if num == 0:\n",
    "    print ('Результат:', num)\n",
    "else:\n",
    "    while num != 0:\n",
    "        sumnum += num\n",
    "        num = int(input('Введите число: '))\n",
    "        print('Результат:', sumnum)  "
   ]
  },
  {
   "cell_type": "code",
   "execution_count": 2,
   "metadata": {},
   "outputs": [
    {
     "name": "stdout",
     "output_type": "stream",
     "text": [
      "Идеальные пары:\n",
      "Alex и Emma\n",
      "Arthur и Kate\n",
      "John и Kira\n",
      "Peter и Liza\n",
      "Richard и Trisha\n"
     ]
    }
   ],
   "source": [
    "boys = ['Peter', 'Alex', 'John', 'Arthur', 'Richard']\n",
    "girls = ['Kate', 'Liza', 'Kira', 'Emma', 'Trisha']\n",
    "its_a_match = zip(sorted(boys), sorted(girls))\n",
    "if len(boys) == len(girls):\n",
    "    print('Идеальные пары:')\n",
    "    for match in its_a_match:\n",
    "        print(match[0],'и', match[1])\n",
    "else:\n",
    "    print ('Внимание, кто-то может остаться без пары!')\n"
   ]
  },
  {
   "cell_type": "code",
   "execution_count": 21,
   "metadata": {},
   "outputs": [
    {
     "name": "stdout",
     "output_type": "stream",
     "text": [
      "Средняя температура в странах:\n",
      "Thailand - 23.9 C\n",
      "Средняя температура в странах:\n",
      "Germany - 13.8 C\n",
      "Средняя температура в странах:\n",
      "Russia - 3.7 C\n",
      "Средняя температура в странах:\n",
      "Poland - 12.0 C\n"
     ]
    }
   ],
   "source": [
    "from math import * \n",
    "countries_temperature = [\n",
    "    ['Thailand', [75.2, 77, 78.8, 73.4, 68, 75.2, 77]],\n",
    "    ['Germany', [57.2, 55.4, 59, 59, 53.6]],\n",
    "    ['Russia', [35.6, 37.4, 39.2, 41, 42.8, 39.2, 35.6]],\n",
    "    ['Poland', [50, 50, 53.6, 57.2, 55.4, 55.4]]\n",
    "]\n",
    "sum_temp = 0.0\n",
    "average_temp = 0.0\n",
    "celcium = 0.0\n",
    "for country in countries_temperature:\n",
    "    sum_temp = sum(country[1])\n",
    "    average_temp = sum_temp/len(country[1])\n",
    "    celcium = (average_temp - 32) * 5 / 9\n",
    "    print('Средняя температура в странах:'),\n",
    "    print(country[0], '-', round(celcium,1), 'C')\n",
    "\n",
    "    \n",
    "    "
   ]
  },
  {
   "cell_type": "code",
   "execution_count": null,
   "metadata": {},
   "outputs": [],
   "source": []
  }
 ],
 "metadata": {
  "kernelspec": {
   "display_name": "Python 3",
   "language": "python",
   "name": "python3"
  },
  "language_info": {
   "codemirror_mode": {
    "name": "ipython",
    "version": 3
   },
   "file_extension": ".py",
   "mimetype": "text/x-python",
   "name": "python",
   "nbconvert_exporter": "python",
   "pygments_lexer": "ipython3",
   "version": "3.8.5"
  }
 },
 "nbformat": 4,
 "nbformat_minor": 4
}
