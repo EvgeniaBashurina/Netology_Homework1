{
 "cells": [
  {
   "cell_type": "code",
   "execution_count": 3,
   "metadata": {},
   "outputs": [
    {
     "name": "stdout",
     "output_type": "stream",
     "text": [
      "Насколько проще было бы писать программы, если бы не заказчики\n",
      "Насколько проще было бы писать программы, если бы не заказчики\n",
      "Фразы равной длины\n"
     ]
    }
   ],
   "source": [
    "phrase_1 = input()\n",
    "phrase_2 = input()\n",
    "if len(phrase_1) > len(phrase_2):\n",
    "    print('Фраза 1 длиннее фразы 2')\n",
    "elif len(phrase_1) < len(phrase_2):\n",
    "    print('Фраза 2 длиннее фразы 1')\n",
    "elif len(phrase_1) == len(phrase_2): \n",
    "    print('Фразы равной длины')"
   ]
  },
  {
   "cell_type": "code",
   "execution_count": 19,
   "metadata": {},
   "outputs": [
    {
     "name": "stdout",
     "output_type": "stream",
     "text": [
      "2020\n",
      "Високосный год\n"
     ]
    }
   ],
   "source": [
    "year = int(input())\n",
    "if (year % 4 == 0) and (year % 100 != 0) or (year % 400 == 0):\n",
    "    print('Високосный год')\n",
    "else:\n",
    "    print('Обычный год')"
   ]
  },
  {
   "cell_type": "code",
   "execution_count": 6,
   "metadata": {},
   "outputs": [
    {
     "name": "stdout",
     "output_type": "stream",
     "text": [
      "Введите день: 1\n",
      "Введите месяц: Декабрь\n",
      "Ваш знак зодиака: Стрелец\n"
     ]
    }
   ],
   "source": [
    "day = int(input('Введите день: '))\n",
    "month = input('Введите месяц: ')\n",
    "if (day>=21 and day<=31 and month=='Март') or (day<=20 and day>=1 and month=='Апрель'):\n",
    "    print('Ваш знак зодиака: Овен')\n",
    "elif (day>=21 and day<=30 and month=='Апрель') or (day<=20 and day>=1 and month=='Май'):\n",
    "    print('Ваш знак зодиака: Телец')\n",
    "elif (day>=21 and day<=31 and month=='Май') or (day<=21 and day>=1 and month=='Июнь'):\n",
    "    print('Ваш знак зодиака: Близнецы')\n",
    "elif (day>=22 and day<=30 and month=='Июнь') or (day<=22 and day>=1 and month=='Июль'):\n",
    "    print('Ваш знак зодиака: Рак')\n",
    "elif (day>=23 and day<=31 and month=='Июль') or (day<=23 and day>=1 and month=='Август'):\n",
    "    print('Ваш знак зодиака: Лев')\n",
    "elif (day>=24 and day<=31 and month=='Август') or (day<=23 and day>=1 and month=='Сентябрь'):\n",
    "    print('Ваш знак зодиака: Дева')\n",
    "elif (day>=24 and day<=31 and month=='Сентябрь') or (day<=23 and day>=1 and month=='Октябрь'):\n",
    "    print('Ваш знак зодиака: Весы')\n",
    "elif (day>=24 and day<=31 and month=='Октябрь') or (day<=22 and day>=1 and month=='Ноябрь'):\n",
    "    print('Ваш знак зодиака: Скорпион')\n",
    "elif (day>=23 and day<=30 and month=='Ноябрь') or (day<=21 and day>=1 and month=='Декабрь'):\n",
    "    print('Ваш знак зодиака: Стрелец')\n",
    "elif (day>=22 and day<=31 and month=='Декабрь') or (day<=20 and day>=1 and month=='Январь'):\n",
    "    print('Ваш знак зодиака: Козерог')\n",
    "elif (day>=21 and day<=31 and month=='Январь') or (day<=18 and day>=1 and month=='Февраль'):\n",
    "    print('Ваш знак зодиака: Водолей')\n",
    "elif (day>=19 and day<=29 and month=='Февраль') or (day<=20 and day>=1 and month=='Март'):\n",
    "    print('Ваш знак зодиака: Рыбы')"
   ]
  },
  {
   "cell_type": "code",
   "execution_count": 8,
   "metadata": {},
   "outputs": [
    {
     "name": "stdout",
     "output_type": "stream",
     "text": [
      "10\n",
      "205\n",
      "5\n",
      "Упаковка для лыж\n"
     ]
    }
   ],
   "source": [
    "width = int(input())\n",
    "length = int(input())\n",
    "height = int(input())\n",
    "if length>200:\n",
    "    print('Упаковка для лыж')\n",
    "elif width<15 and length<15 and height<15:\n",
    "    print('Коробка №1')\n",
    "elif (15<width<50) or (15<length<50) or (15<height<50):\n",
    "    print ('Коробка №2')\n",
    "else:\n",
    "    print('Стандартная коробка №3')"
   ]
  },
  {
   "cell_type": "code",
   "execution_count": null,
   "metadata": {},
   "outputs": [],
   "source": []
  }
 ],
 "metadata": {
  "kernelspec": {
   "display_name": "Python 3",
   "language": "python",
   "name": "python3"
  },
  "language_info": {
   "codemirror_mode": {
    "name": "ipython",
    "version": 3
   },
   "file_extension": ".py",
   "mimetype": "text/x-python",
   "name": "python",
   "nbconvert_exporter": "python",
   "pygments_lexer": "ipython3",
   "version": "3.8.5"
  }
 },
 "nbformat": 4,
 "nbformat_minor": 5
}
